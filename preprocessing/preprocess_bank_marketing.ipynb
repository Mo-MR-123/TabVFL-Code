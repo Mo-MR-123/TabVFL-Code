{
 "cells": [
  {
   "cell_type": "code",
   "execution_count": 4,
   "metadata": {},
   "outputs": [],
   "source": [
    "import pandas as pd\n",
    "import numpy as np\n",
    "import matplotlib.pyplot as plt\n",
    "import seaborn as sns\n",
    "from sklearn.preprocessing import LabelEncoder\n",
    "from sklearn.preprocessing import StandardScaler\n",
    "from pathlib import Path"
   ]
  },
  {
   "cell_type": "code",
   "execution_count": 5,
   "metadata": {},
   "outputs": [],
   "source": [
    "raw_df = pd.read_csv(f'{Path.cwd()}/../datasets/bank_marketing_original.csv', sep=';')"
   ]
  },
  {
   "cell_type": "code",
   "execution_count": null,
   "metadata": {},
   "outputs": [],
   "source": [
    "raw_df.columns.size"
   ]
  },
  {
   "cell_type": "code",
   "execution_count": 7,
   "metadata": {},
   "outputs": [],
   "source": [
    "raw_df.rename(columns={'y': 'deposit'}, inplace=True)"
   ]
  },
  {
   "cell_type": "code",
   "execution_count": 8,
   "metadata": {},
   "outputs": [
    {
     "name": "stdout",
     "output_type": "stream",
     "text": [
      "- \"age\"\n",
      "- \"job\"\n",
      "- \"marital\"\n",
      "- \"education\"\n",
      "- \"default\"\n",
      "- \"balance\"\n",
      "- \"housing\"\n",
      "- \"loan\"\n",
      "- \"contact\"\n",
      "- \"day\"\n",
      "- \"month\"\n",
      "- \"duration\"\n",
      "- \"campaign\"\n",
      "- \"pdays\"\n",
      "- \"previous\"\n",
      "- \"poutcome\"\n",
      "- \"deposit\"\n"
     ]
    }
   ],
   "source": [
    "for i in raw_df.columns:\n",
    "    print(f\"- \\\"{i}\\\"\")"
   ]
  },
  {
   "cell_type": "code",
   "execution_count": null,
   "metadata": {},
   "outputs": [],
   "source": [
    "raw_df.info()"
   ]
  },
  {
   "cell_type": "code",
   "execution_count": null,
   "metadata": {},
   "outputs": [],
   "source": [
    "# number of rows in dataset\n",
    "\n",
    "print(\"Bank marketing dataset consists of {rows} rows.\".format(rows = len(raw_df)))"
   ]
  },
  {
   "cell_type": "code",
   "execution_count": 9,
   "metadata": {},
   "outputs": [
    {
     "data": {
      "text/plain": [
       "0.0"
      ]
     },
     "execution_count": 9,
     "metadata": {},
     "output_type": "execute_result"
    }
   ],
   "source": [
    "#find percentage of missing values for each column\n",
    "missing_values = raw_df.isnull().mean()*100\n",
    "\n",
    "missing_values.sum()"
   ]
  },
  {
   "cell_type": "code",
   "execution_count": 10,
   "metadata": {},
   "outputs": [],
   "source": [
    "cat_columns = ['job', 'marital', 'education', 'contact', 'month','poutcome']\n",
    "numerical_columns = ['age', 'balance', 'day','duration', 'pdays', 'campaign', 'previous']\n",
    "binary_columns = ['default', 'housing', 'loan']"
   ]
  },
  {
   "cell_type": "code",
   "execution_count": 11,
   "metadata": {},
   "outputs": [
    {
     "data": {
      "text/plain": [
       "no     39922\n",
       "yes     5289\n",
       "Name: deposit, dtype: int64"
      ]
     },
     "execution_count": 11,
     "metadata": {},
     "output_type": "execute_result"
    }
   ],
   "source": [
    "raw_df['deposit'].value_counts()"
   ]
  },
  {
   "cell_type": "code",
   "execution_count": 12,
   "metadata": {},
   "outputs": [],
   "source": [
    "# map income labels to binary values\n",
    "raw_df['deposit'] = raw_df['deposit'].map({'no': 0, 'yes': 1})"
   ]
  },
  {
   "cell_type": "code",
   "execution_count": 13,
   "metadata": {},
   "outputs": [
    {
     "data": {
      "text/plain": [
       "0    39922\n",
       "1     5289\n",
       "Name: deposit, dtype: int64"
      ]
     },
     "execution_count": 13,
     "metadata": {},
     "output_type": "execute_result"
    }
   ],
   "source": [
    "raw_df['deposit'].value_counts()"
   ]
  },
  {
   "cell_type": "code",
   "execution_count": 14,
   "metadata": {},
   "outputs": [
    {
     "data": {
      "text/plain": [
       "<AxesSubplot: title={'center': 'Deposit value counts'}>"
      ]
     },
     "execution_count": 14,
     "metadata": {},
     "output_type": "execute_result"
    },
    {
     "data": {
      "image/png": "[encoded data removed]",
      "text/plain": [
       "<Figure size 640x480 with 1 Axes>"
      ]
     },
     "metadata": {},
     "output_type": "display_data"
    }
   ],
   "source": [
    "raw_df['deposit'].value_counts().plot.bar(title = 'Deposit value counts')\n"
   ]
  },
  {
   "cell_type": "code",
   "execution_count": null,
   "metadata": {},
   "outputs": [],
   "source": [
    "raw_df.head()"
   ]
  },
  {
   "cell_type": "code",
   "execution_count": 15,
   "metadata": {},
   "outputs": [
    {
     "name": "stdout",
     "output_type": "stream",
     "text": [
      "One-hot encoding column job\n",
      "One hot encoded column job has 12 new features\n",
      "One-hot encoding column marital\n",
      "One hot encoded column marital has 3 new features\n",
      "One-hot encoding column education\n",
      "One hot encoded column education has 4 new features\n",
      "One-hot encoding column contact\n",
      "One hot encoded column contact has 3 new features\n",
      "One-hot encoding column month\n",
      "One hot encoded column month has 12 new features\n",
      "One-hot encoding column poutcome\n",
      "One hot encoded column poutcome has 4 new features\n"
     ]
    },
    {
     "data": {
      "text/html": [
       "<div>\n",
       "<style scoped>\n",
       "    .dataframe tbody tr th:only-of-type {\n",
       "        vertical-align: middle;\n",
       "    }\n",
       "\n",
       "    .dataframe tbody tr th {\n",
       "        vertical-align: top;\n",
       "    }\n",
       "\n",
       "    .dataframe thead th {\n",
       "        text-align: right;\n",
       "    }\n",
       "</style>\n",
       "<table border=\"1\" class=\"dataframe\">\n",
       "  <thead>\n",
       "    <tr style=\"text-align: right;\">\n",
       "      <th></th>\n",
       "      <th>age</th>\n",
       "      <th>default</th>\n",
       "      <th>balance</th>\n",
       "      <th>housing</th>\n",
       "      <th>loan</th>\n",
       "      <th>day</th>\n",
       "      <th>duration</th>\n",
       "      <th>campaign</th>\n",
       "      <th>pdays</th>\n",
       "      <th>previous</th>\n",
       "      <th>...</th>\n",
       "      <th>month__jun</th>\n",
       "      <th>month__mar</th>\n",
       "      <th>month__may</th>\n",
       "      <th>month__nov</th>\n",
       "      <th>month__oct</th>\n",
       "      <th>month__sep</th>\n",
       "      <th>poutcome__failure</th>\n",
       "      <th>poutcome__other</th>\n",
       "      <th>poutcome__success</th>\n",
       "      <th>poutcome__unknown</th>\n",
       "    </tr>\n",
       "  </thead>\n",
       "  <tbody>\n",
       "    <tr>\n",
       "      <th>0</th>\n",
       "      <td>58</td>\n",
       "      <td>no</td>\n",
       "      <td>2143</td>\n",
       "      <td>yes</td>\n",
       "      <td>no</td>\n",
       "      <td>5</td>\n",
       "      <td>261</td>\n",
       "      <td>1</td>\n",
       "      <td>-1</td>\n",
       "      <td>0</td>\n",
       "      <td>...</td>\n",
       "      <td>0</td>\n",
       "      <td>0</td>\n",
       "      <td>1</td>\n",
       "      <td>0</td>\n",
       "      <td>0</td>\n",
       "      <td>0</td>\n",
       "      <td>0</td>\n",
       "      <td>0</td>\n",
       "      <td>0</td>\n",
       "      <td>1</td>\n",
       "    </tr>\n",
       "    <tr>\n",
       "      <th>1</th>\n",
       "      <td>44</td>\n",
       "      <td>no</td>\n",
       "      <td>29</td>\n",
       "      <td>yes</td>\n",
       "      <td>no</td>\n",
       "      <td>5</td>\n",
       "      <td>151</td>\n",
       "      <td>1</td>\n",
       "      <td>-1</td>\n",
       "      <td>0</td>\n",
       "      <td>...</td>\n",
       "      <td>0</td>\n",
       "      <td>0</td>\n",
       "      <td>1</td>\n",
       "      <td>0</td>\n",
       "      <td>0</td>\n",
       "      <td>0</td>\n",
       "      <td>0</td>\n",
       "      <td>0</td>\n",
       "      <td>0</td>\n",
       "      <td>1</td>\n",
       "    </tr>\n",
       "    <tr>\n",
       "      <th>2</th>\n",
       "      <td>33</td>\n",
       "      <td>no</td>\n",
       "      <td>2</td>\n",
       "      <td>yes</td>\n",
       "      <td>yes</td>\n",
       "      <td>5</td>\n",
       "      <td>76</td>\n",
       "      <td>1</td>\n",
       "      <td>-1</td>\n",
       "      <td>0</td>\n",
       "      <td>...</td>\n",
       "      <td>0</td>\n",
       "      <td>0</td>\n",
       "      <td>1</td>\n",
       "      <td>0</td>\n",
       "      <td>0</td>\n",
       "      <td>0</td>\n",
       "      <td>0</td>\n",
       "      <td>0</td>\n",
       "      <td>0</td>\n",
       "      <td>1</td>\n",
       "    </tr>\n",
       "    <tr>\n",
       "      <th>3</th>\n",
       "      <td>47</td>\n",
       "      <td>no</td>\n",
       "      <td>1506</td>\n",
       "      <td>yes</td>\n",
       "      <td>no</td>\n",
       "      <td>5</td>\n",
       "      <td>92</td>\n",
       "      <td>1</td>\n",
       "      <td>-1</td>\n",
       "      <td>0</td>\n",
       "      <td>...</td>\n",
       "      <td>0</td>\n",
       "      <td>0</td>\n",
       "      <td>1</td>\n",
       "      <td>0</td>\n",
       "      <td>0</td>\n",
       "      <td>0</td>\n",
       "      <td>0</td>\n",
       "      <td>0</td>\n",
       "      <td>0</td>\n",
       "      <td>1</td>\n",
       "    </tr>\n",
       "    <tr>\n",
       "      <th>4</th>\n",
       "      <td>33</td>\n",
       "      <td>no</td>\n",
       "      <td>1</td>\n",
       "      <td>no</td>\n",
       "      <td>no</td>\n",
       "      <td>5</td>\n",
       "      <td>198</td>\n",
       "      <td>1</td>\n",
       "      <td>-1</td>\n",
       "      <td>0</td>\n",
       "      <td>...</td>\n",
       "      <td>0</td>\n",
       "      <td>0</td>\n",
       "      <td>1</td>\n",
       "      <td>0</td>\n",
       "      <td>0</td>\n",
       "      <td>0</td>\n",
       "      <td>0</td>\n",
       "      <td>0</td>\n",
       "      <td>0</td>\n",
       "      <td>1</td>\n",
       "    </tr>\n",
       "    <tr>\n",
       "      <th>...</th>\n",
       "      <td>...</td>\n",
       "      <td>...</td>\n",
       "      <td>...</td>\n",
       "      <td>...</td>\n",
       "      <td>...</td>\n",
       "      <td>...</td>\n",
       "      <td>...</td>\n",
       "      <td>...</td>\n",
       "      <td>...</td>\n",
       "      <td>...</td>\n",
       "      <td>...</td>\n",
       "      <td>...</td>\n",
       "      <td>...</td>\n",
       "      <td>...</td>\n",
       "      <td>...</td>\n",
       "      <td>...</td>\n",
       "      <td>...</td>\n",
       "      <td>...</td>\n",
       "      <td>...</td>\n",
       "      <td>...</td>\n",
       "      <td>...</td>\n",
       "    </tr>\n",
       "    <tr>\n",
       "      <th>45206</th>\n",
       "      <td>51</td>\n",
       "      <td>no</td>\n",
       "      <td>825</td>\n",
       "      <td>no</td>\n",
       "      <td>no</td>\n",
       "      <td>17</td>\n",
       "      <td>977</td>\n",
       "      <td>3</td>\n",
       "      <td>-1</td>\n",
       "      <td>0</td>\n",
       "      <td>...</td>\n",
       "      <td>0</td>\n",
       "      <td>0</td>\n",
       "      <td>0</td>\n",
       "      <td>1</td>\n",
       "      <td>0</td>\n",
       "      <td>0</td>\n",
       "      <td>0</td>\n",
       "      <td>0</td>\n",
       "      <td>0</td>\n",
       "      <td>1</td>\n",
       "    </tr>\n",
       "    <tr>\n",
       "      <th>45207</th>\n",
       "      <td>71</td>\n",
       "      <td>no</td>\n",
       "      <td>1729</td>\n",
       "      <td>no</td>\n",
       "      <td>no</td>\n",
       "      <td>17</td>\n",
       "      <td>456</td>\n",
       "      <td>2</td>\n",
       "      <td>-1</td>\n",
       "      <td>0</td>\n",
       "      <td>...</td>\n",
       "      <td>0</td>\n",
       "      <td>0</td>\n",
       "      <td>0</td>\n",
       "      <td>1</td>\n",
       "      <td>0</td>\n",
       "      <td>0</td>\n",
       "      <td>0</td>\n",
       "      <td>0</td>\n",
       "      <td>0</td>\n",
       "      <td>1</td>\n",
       "    </tr>\n",
       "    <tr>\n",
       "      <th>45208</th>\n",
       "      <td>72</td>\n",
       "      <td>no</td>\n",
       "      <td>5715</td>\n",
       "      <td>no</td>\n",
       "      <td>no</td>\n",
       "      <td>17</td>\n",
       "      <td>1127</td>\n",
       "      <td>5</td>\n",
       "      <td>184</td>\n",
       "      <td>3</td>\n",
       "      <td>...</td>\n",
       "      <td>0</td>\n",
       "      <td>0</td>\n",
       "      <td>0</td>\n",
       "      <td>1</td>\n",
       "      <td>0</td>\n",
       "      <td>0</td>\n",
       "      <td>0</td>\n",
       "      <td>0</td>\n",
       "      <td>1</td>\n",
       "      <td>0</td>\n",
       "    </tr>\n",
       "    <tr>\n",
       "      <th>45209</th>\n",
       "      <td>57</td>\n",
       "      <td>no</td>\n",
       "      <td>668</td>\n",
       "      <td>no</td>\n",
       "      <td>no</td>\n",
       "      <td>17</td>\n",
       "      <td>508</td>\n",
       "      <td>4</td>\n",
       "      <td>-1</td>\n",
       "      <td>0</td>\n",
       "      <td>...</td>\n",
       "      <td>0</td>\n",
       "      <td>0</td>\n",
       "      <td>0</td>\n",
       "      <td>1</td>\n",
       "      <td>0</td>\n",
       "      <td>0</td>\n",
       "      <td>0</td>\n",
       "      <td>0</td>\n",
       "      <td>0</td>\n",
       "      <td>1</td>\n",
       "    </tr>\n",
       "    <tr>\n",
       "      <th>45210</th>\n",
       "      <td>37</td>\n",
       "      <td>no</td>\n",
       "      <td>2971</td>\n",
       "      <td>no</td>\n",
       "      <td>no</td>\n",
       "      <td>17</td>\n",
       "      <td>361</td>\n",
       "      <td>2</td>\n",
       "      <td>188</td>\n",
       "      <td>11</td>\n",
       "      <td>...</td>\n",
       "      <td>0</td>\n",
       "      <td>0</td>\n",
       "      <td>0</td>\n",
       "      <td>1</td>\n",
       "      <td>0</td>\n",
       "      <td>0</td>\n",
       "      <td>0</td>\n",
       "      <td>1</td>\n",
       "      <td>0</td>\n",
       "      <td>0</td>\n",
       "    </tr>\n",
       "  </tbody>\n",
       "</table>\n",
       "<p>45211 rows × 49 columns</p>\n",
       "</div>"
      ],
      "text/plain": [
       "       age default  balance housing loan  day  duration  campaign  pdays  \\\n",
       "0       58      no     2143     yes   no    5       261         1     -1   \n",
       "1       44      no       29     yes   no    5       151         1     -1   \n",
       "2       33      no        2     yes  yes    5        76         1     -1   \n",
       "3       47      no     1506     yes   no    5        92         1     -1   \n",
       "4       33      no        1      no   no    5       198         1     -1   \n",
       "...    ...     ...      ...     ...  ...  ...       ...       ...    ...   \n",
       "45206   51      no      825      no   no   17       977         3     -1   \n",
       "45207   71      no     1729      no   no   17       456         2     -1   \n",
       "45208   72      no     5715      no   no   17      1127         5    184   \n",
       "45209   57      no      668      no   no   17       508         4     -1   \n",
       "45210   37      no     2971      no   no   17       361         2    188   \n",
       "\n",
       "       previous  ...  month__jun  month__mar  month__may  month__nov  \\\n",
       "0             0  ...           0           0           1           0   \n",
       "1             0  ...           0           0           1           0   \n",
       "2             0  ...           0           0           1           0   \n",
       "3             0  ...           0           0           1           0   \n",
       "4             0  ...           0           0           1           0   \n",
       "...         ...  ...         ...         ...         ...         ...   \n",
       "45206         0  ...           0           0           0           1   \n",
       "45207         0  ...           0           0           0           1   \n",
       "45208         3  ...           0           0           0           1   \n",
       "45209         0  ...           0           0           0           1   \n",
       "45210        11  ...           0           0           0           1   \n",
       "\n",
       "       month__oct  month__sep  poutcome__failure  poutcome__other  \\\n",
       "0               0           0                  0                0   \n",
       "1               0           0                  0                0   \n",
       "2               0           0                  0                0   \n",
       "3               0           0                  0                0   \n",
       "4               0           0                  0                0   \n",
       "...           ...         ...                ...              ...   \n",
       "45206           0           0                  0                0   \n",
       "45207           0           0                  0                0   \n",
       "45208           0           0                  0                0   \n",
       "45209           0           0                  0                0   \n",
       "45210           0           0                  0                1   \n",
       "\n",
       "       poutcome__success  poutcome__unknown  \n",
       "0                      0                  1  \n",
       "1                      0                  1  \n",
       "2                      0                  1  \n",
       "3                      0                  1  \n",
       "4                      0                  1  \n",
       "...                  ...                ...  \n",
       "45206                  0                  1  \n",
       "45207                  0                  1  \n",
       "45208                  1                  0  \n",
       "45209                  0                  1  \n",
       "45210                  0                  0  \n",
       "\n",
       "[45211 rows x 49 columns]"
      ]
     },
     "execution_count": 15,
     "metadata": {},
     "output_type": "execute_result"
    }
   ],
   "source": [
    "# One-hot encode categorical columns\n",
    "raw_one_hot_encoded = raw_df.copy()\n",
    "\n",
    "for cat_col in cat_columns:\n",
    "    # if raw_df[cat_col].nunique() <= 15:\n",
    "    print(f\"One-hot encoding column {cat_col}\")\n",
    "\n",
    "    # Perform one-hot encoding using pd.get_dummies()\n",
    "    encoded_column = pd.get_dummies(raw_df[cat_col], prefix=cat_col, prefix_sep=\"__\")\n",
    "\n",
    "    print(f\"One hot encoded column {cat_col} has {encoded_column.shape[1]} new features\")\n",
    "    \n",
    "    # Drop the original categorical column\n",
    "    encoded_df = raw_one_hot_encoded.drop(columns=[cat_col])\n",
    "    \n",
    "    # Concatenate the one-hot encoded columns to the DataFrame\n",
    "    raw_one_hot_encoded = pd.concat([encoded_df, encoded_column], axis=1)\n",
    "\n",
    "raw_one_hot_encoded"
   ]
  },
  {
   "cell_type": "code",
   "execution_count": 16,
   "metadata": {},
   "outputs": [
    {
     "name": "stdout",
     "output_type": "stream",
     "text": [
      "Number Unique Classes of LabelEncoding in column default: 2\n",
      "Number Unique Classes of LabelEncoding in column housing: 2\n",
      "Number Unique Classes of LabelEncoding in column loan: 2\n"
     ]
    }
   ],
   "source": [
    "# label encode binary categorical columns\n",
    "for col in binary_columns:\n",
    "    _encoder = LabelEncoder()\n",
    "    _encoder.fit(raw_one_hot_encoded[col])\n",
    "\n",
    "    # Some logging\n",
    "    print(f\"Number Unique Classes of LabelEncoding in column {col}: {len(np.unique(_encoder.classes_))}\")\n",
    "    \n",
    "    raw_one_hot_encoded[col] = _encoder.transform(raw_one_hot_encoded[col])"
   ]
  },
  {
   "cell_type": "code",
   "execution_count": 17,
   "metadata": {},
   "outputs": [],
   "source": [
    "# standard scale numerical columns\n",
    "for col in numerical_columns:\n",
    "    _scaler = StandardScaler()\n",
    "    raw_one_hot_encoded[col] = _scaler.fit_transform(raw_one_hot_encoded[col].to_numpy().reshape(-1, 1))"
   ]
  },
  {
   "cell_type": "code",
   "execution_count": null,
   "metadata": {},
   "outputs": [],
   "source": [
    "raw_one_hot_encoded"
   ]
  },
  {
   "cell_type": "code",
   "execution_count": null,
   "metadata": {},
   "outputs": [],
   "source": [
    "raw_df['deposit'].value_counts()"
   ]
  },
  {
   "cell_type": "code",
   "execution_count": 18,
   "metadata": {},
   "outputs": [
    {
     "name": "stdout",
     "output_type": "stream",
     "text": [
      "- \"age\"\n",
      "- \"default\"\n",
      "- \"balance\"\n",
      "- \"housing\"\n",
      "- \"loan\"\n",
      "- \"day\"\n",
      "- \"duration\"\n",
      "- \"campaign\"\n",
      "- \"pdays\"\n",
      "- \"previous\"\n",
      "- \"deposit\"\n",
      "- \"job__admin.\"\n",
      "- \"job__blue-collar\"\n",
      "- \"job__entrepreneur\"\n",
      "- \"job__housemaid\"\n",
      "- \"job__management\"\n",
      "- \"job__retired\"\n",
      "- \"job__self-employed\"\n",
      "- \"job__services\"\n",
      "- \"job__student\"\n",
      "- \"job__technician\"\n",
      "- \"job__unemployed\"\n",
      "- \"job__unknown\"\n",
      "- \"marital__divorced\"\n",
      "- \"marital__married\"\n",
      "- \"marital__single\"\n",
      "- \"education__primary\"\n",
      "- \"education__secondary\"\n",
      "- \"education__tertiary\"\n",
      "- \"education__unknown\"\n",
      "- \"contact__cellular\"\n",
      "- \"contact__telephone\"\n",
      "- \"contact__unknown\"\n",
      "- \"month__apr\"\n",
      "- \"month__aug\"\n",
      "- \"month__dec\"\n",
      "- \"month__feb\"\n",
      "- \"month__jan\"\n",
      "- \"month__jul\"\n",
      "- \"month__jun\"\n",
      "- \"month__mar\"\n",
      "- \"month__may\"\n",
      "- \"month__nov\"\n",
      "- \"month__oct\"\n",
      "- \"month__sep\"\n",
      "- \"poutcome__failure\"\n",
      "- \"poutcome__other\"\n",
      "- \"poutcome__success\"\n",
      "- \"poutcome__unknown\"\n"
     ]
    }
   ],
   "source": [
    "for i in raw_one_hot_encoded.columns:\n",
    "    print(f\"- \\\"{i}\\\"\")"
   ]
  },
  {
   "cell_type": "code",
   "execution_count": null,
   "metadata": {},
   "outputs": [],
   "source": [
    "raw_one_hot_encoded.to_csv(f'{Path.cwd()}/../datasets/bank_marketing_preprocessed.csv', index=False)"
   ]
  },
  {
   "cell_type": "code",
   "execution_count": 19,
   "metadata": {},
   "outputs": [
    {
     "data": {
      "text/plain": [
       "<AxesSubplot: >"
      ]
     },
     "execution_count": 19,
     "metadata": {},
     "output_type": "execute_result"
    },
    {
     "data": {
      "image/png": "[encoded data removed]",
      "text/plain": [
       "<Figure size 1100x900 with 2 Axes>"
      ]
     },
     "metadata": {},
     "output_type": "display_data"
    }
   ],
   "source": [
    "corr = raw_one_hot_encoded.corr()\n",
    "\n",
    "# Generate a mask for the upper triangle\n",
    "mask = np.triu(np.ones_like(corr, dtype=bool))\n",
    "\n",
    "# Set up the matplotlib figure\n",
    "f, ax = plt.subplots(figsize=(11, 9))\n",
    "\n",
    "# Generate a custom diverging colormap\n",
    "cmap = sns.diverging_palette(230, 20, as_cmap=True)\n",
    "\n",
    "# Draw the heatmap with the mask and correct aspect ratio\n",
    "sns.heatmap(corr, mask=mask, cmap=cmap, center=0,\n",
    "            square=True, linewidths=.5, cbar_kws={\"shrink\": .5})"
   ]
  }
 ],
 "metadata": {
  "kernelspec": {
   "display_name": "venv",
   "language": "python",
   "name": "python3"
  },
  "language_info": {
   "codemirror_mode": {
    "name": "ipython",
    "version": 3
   },
   "file_extension": ".py",
   "mimetype": "text/x-python",
   "name": "python",
   "nbconvert_exporter": "python",
   "pygments_lexer": "ipython3",
   "version": "3.8.10"
  },
  "orig_nbformat": 4
 },
 "nbformat": 4,
 "nbformat_minor": 2
}
