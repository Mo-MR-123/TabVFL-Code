{
 "cells": [
  {
   "cell_type": "code",
   "execution_count": 4,
   "metadata": {},
   "outputs": [],
   "source": [
    "import pandas as pd\n",
    "import numpy as np\n",
    "import matplotlib.pyplot as plt\n",
    "import seaborn as sns\n",
    "from sklearn.preprocessing import LabelEncoder\n",
    "from sklearn.preprocessing import StandardScaler\n",
    "from pathlib import Path"
   ]
  },
  {
   "cell_type": "code",
   "execution_count": 5,
   "metadata": {},
   "outputs": [],
   "source": [
    "raw_df = pd.read_csv(f'{Path.cwd()}/../datasets/bank_marketing_original.csv', sep=';')"
   ]
  },
  {
   "cell_type": "code",
   "execution_count": null,
   "metadata": {},
   "outputs": [],
   "source": [
    "raw_df.columns.size"
   ]
  },
  {
   "cell_type": "code",
   "execution_count": 7,
   "metadata": {},
   "outputs": [],
   "source": [
    "raw_df.rename(columns={'y': 'deposit'}, inplace=True)"
   ]
  },
  {
   "cell_type": "code",
   "execution_count": null,
   "metadata": {},
   "outputs": [],
   "source": [
    "for i in raw_df.columns:\n",
    "    print(f\"- \\\"{i}\\\"\")"
   ]
  },
  {
   "cell_type": "code",
   "execution_count": null,
   "metadata": {},
   "outputs": [],
   "source": [
    "raw_df.info()"
   ]
  },
  {
   "cell_type": "code",
   "execution_count": null,
   "metadata": {},
   "outputs": [],
   "source": [
    "# number of rows in dataset\n",
    "\n",
    "print(\"Bank marketing dataset consists of {rows} rows.\".format(rows = len(raw_df)))"
   ]
  },
  {
   "cell_type": "code",
   "execution_count": null,
   "metadata": {},
   "outputs": [],
   "source": [
    "#find percentage of missing values for each column\n",
    "missing_values = raw_df.isnull().mean()*100\n",
    "\n",
    "missing_values.sum()"
   ]
  },
  {
   "cell_type": "code",
   "execution_count": 10,
   "metadata": {},
   "outputs": [],
   "source": [
    "cat_columns = ['job', 'marital', 'education', 'contact', 'month','poutcome']\n",
    "numerical_columns = ['age', 'balance', 'day','duration', 'pdays', 'campaign', 'previous']\n",
    "binary_columns = ['default', 'housing', 'loan']"
   ]
  },
  {
   "cell_type": "code",
   "execution_count": 12,
   "metadata": {},
   "outputs": [],
   "source": [
    "# map income labels to binary values\n",
    "raw_df['deposit'] = raw_df['deposit'].map({'no': 0, 'yes': 1})"
   ]
  },
  {
   "cell_type": "code",
   "execution_count": null,
   "metadata": {},
   "outputs": [],
   "source": [
    "raw_df['deposit'].value_counts()"
   ]
  },
  {
   "cell_type": "code",
   "execution_count": null,
   "metadata": {},
   "outputs": [],
   "source": [
    "raw_df['deposit'].value_counts().plot.bar(title = 'Deposit value counts')\n"
   ]
  },
  {
   "cell_type": "code",
   "execution_count": null,
   "metadata": {},
   "outputs": [],
   "source": [
    "# One-hot encode categorical columns\n",
    "raw_one_hot_encoded = raw_df.copy()\n",
    "\n",
    "for cat_col in cat_columns:\n",
    "    # if raw_df[cat_col].nunique() <= 15:\n",
    "    print(f\"One-hot encoding column {cat_col}\")\n",
    "\n",
    "    # Perform one-hot encoding using pd.get_dummies()\n",
    "    encoded_column = pd.get_dummies(raw_df[cat_col], prefix=cat_col, prefix_sep=\"__\")\n",
    "\n",
    "    print(f\"One hot encoded column {cat_col} has {encoded_column.shape[1]} new features\")\n",
    "    \n",
    "    # Drop the original categorical column\n",
    "    encoded_df = raw_one_hot_encoded.drop(columns=[cat_col])\n",
    "    \n",
    "    # Concatenate the one-hot encoded columns to the DataFrame\n",
    "    raw_one_hot_encoded = pd.concat([encoded_df, encoded_column], axis=1)\n",
    "\n",
    "raw_one_hot_encoded"
   ]
  },
  {
   "cell_type": "code",
   "execution_count": null,
   "metadata": {},
   "outputs": [],
   "source": [
    "# label encode binary categorical columns\n",
    "for col in binary_columns:\n",
    "    _encoder = LabelEncoder()\n",
    "    _encoder.fit(raw_one_hot_encoded[col])\n",
    "\n",
    "    # Some logging\n",
    "    print(f\"Number Unique Classes of LabelEncoding in column {col}: {len(np.unique(_encoder.classes_))}\")\n",
    "    \n",
    "    raw_one_hot_encoded[col] = _encoder.transform(raw_one_hot_encoded[col])"
   ]
  },
  {
   "cell_type": "code",
   "execution_count": 17,
   "metadata": {},
   "outputs": [],
   "source": [
    "# standard scale numerical columns\n",
    "for col in numerical_columns:\n",
    "    _scaler = StandardScaler()\n",
    "    raw_one_hot_encoded[col] = _scaler.fit_transform(raw_one_hot_encoded[col].to_numpy().reshape(-1, 1))"
   ]
  },
  {
   "cell_type": "code",
   "execution_count": null,
   "metadata": {},
   "outputs": [],
   "source": [
    "raw_df['deposit'].value_counts()"
   ]
  },
  {
   "cell_type": "code",
   "execution_count": null,
   "metadata": {},
   "outputs": [],
   "source": [
    "for i in raw_one_hot_encoded.columns:\n",
    "    print(f\"- \\\"{i}\\\"\")"
   ]
  },
  {
   "cell_type": "code",
   "execution_count": null,
   "metadata": {},
   "outputs": [],
   "source": [
    "raw_one_hot_encoded.to_csv(f'{Path.cwd()}/../datasets/bank_marketing_preprocessed.csv', index=False)"
   ]
  },
  {
   "cell_type": "code",
   "execution_count": null,
   "metadata": {},
   "outputs": [],
   "source": [
    "corr = raw_one_hot_encoded.corr()\n",
    "\n",
    "# Generate a mask for the upper triangle\n",
    "mask = np.triu(np.ones_like(corr, dtype=bool))\n",
    "\n",
    "# Set up the matplotlib figure\n",
    "f, ax = plt.subplots(figsize=(11, 9))\n",
    "\n",
    "# Generate a custom diverging colormap\n",
    "cmap = sns.diverging_palette(230, 20, as_cmap=True)\n",
    "\n",
    "# Draw the heatmap with the mask and correct aspect ratio\n",
    "sns.heatmap(corr, mask=mask, cmap=cmap, center=0,\n",
    "            square=True, linewidths=.5, cbar_kws={\"shrink\": .5})"
   ]
  }
 ],
 "metadata": {
  "kernelspec": {
   "display_name": "venv",
   "language": "python",
   "name": "python3"
  },
  "language_info": {
   "codemirror_mode": {
    "name": "ipython",
    "version": 3
   },
   "file_extension": ".py",
   "mimetype": "text/x-python",
   "name": "python",
   "nbconvert_exporter": "python",
   "pygments_lexer": "ipython3",
   "version": "3.8.10"
  },
  "orig_nbformat": 4
 },
 "nbformat": 4,
 "nbformat_minor": 2
}
