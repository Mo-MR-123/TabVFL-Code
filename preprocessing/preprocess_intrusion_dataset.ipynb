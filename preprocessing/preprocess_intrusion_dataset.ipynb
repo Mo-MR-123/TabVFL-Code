{
 "cells": [
  {
   "cell_type": "code",
   "execution_count": 1,
   "id": "65e733b2",
   "metadata": {
    "execution": {
     "iopub.execute_input": "2022-10-11T06:11:07.769933Z",
     "iopub.status.busy": "2022-10-11T06:11:07.768976Z",
     "iopub.status.idle": "2022-10-11T06:11:08.963183Z",
     "shell.execute_reply": "2022-10-11T06:11:08.962228Z"
    },
    "papermill": {
     "duration": 1.203481,
     "end_time": "2022-10-11T06:11:08.965925",
     "exception": false,
     "start_time": "2022-10-11T06:11:07.762444",
     "status": "completed"
    },
    "tags": []
   },
   "outputs": [],
   "source": [
    "import pandas as pd\n",
    "import numpy as np\n",
    "import seaborn as sns\n",
    "from sklearn.model_selection import train_test_split\n",
    "from sklearn.preprocessing import LabelEncoder\n",
    "from sklearn.preprocessing import StandardScaler\n",
    "from matplotlib import pyplot as plt\n",
    "from pathlib import Path"
   ]
  },
  {
   "cell_type": "code",
   "execution_count": null,
   "id": "0772acb9",
   "metadata": {
    "execution": {
     "iopub.execute_input": "2022-10-11T06:11:08.978697Z",
     "iopub.status.busy": "2022-10-11T06:11:08.978064Z",
     "iopub.status.idle": "2022-10-11T06:11:09.166298Z",
     "shell.execute_reply": "2022-10-11T06:11:09.164907Z"
    },
    "papermill": {
     "duration": 0.197567,
     "end_time": "2022-10-11T06:11:09.168818",
     "exception": false,
     "start_time": "2022-10-11T06:11:08.971251",
     "status": "completed"
    },
    "tags": []
   },
   "outputs": [],
   "source": [
    "data=pd.read_csv(f'{Path.cwd()}/../datasets/Intrusion.csv')\n",
    "data"
   ]
  },
  {
   "cell_type": "code",
   "execution_count": null,
   "id": "36cbc3e8",
   "metadata": {},
   "outputs": [],
   "source": [
    "raw_df_features = data.drop(columns=['class'])\n",
    "raw_df_labels = data[['class']]\n",
    "raw_df_features, raw_df_labels"
   ]
  },
  {
   "cell_type": "code",
   "execution_count": null,
   "id": "925fa15a",
   "metadata": {},
   "outputs": [],
   "source": [
    "# apply stratified sampling to the dataset to lower the number of rows to n samples\n",
    "X_train, X_test, y_train, y_test = train_test_split(\n",
    "    raw_df_features,\n",
    "    raw_df_labels,\n",
    "    test_size=50000,\n",
    "    random_state=42, \n",
    "    stratify=raw_df_labels.to_numpy()\n",
    ")\n",
    "\n",
    "X_train.shape, X_test.shape, y_train.shape, y_test.shape"
   ]
  },
  {
   "cell_type": "code",
   "execution_count": null,
   "id": "612495f7",
   "metadata": {},
   "outputs": [],
   "source": [
    "categorical_columns = []\n",
    "binary_columns = []\n",
    "numerical_columns = []\n",
    "constant_columns = []\n",
    "\n",
    "for i in X_test.columns:\n",
    "    if data[i].nunique() > 2 and data[i].nunique() <= 20:\n",
    "        categorical_columns.append(i)\n",
    "        print(f\"Cat col: {i}, {data[i].nunique()}\")\n",
    "    elif data[i].nunique() == 2:\n",
    "        binary_columns.append(i)\n",
    "        print(f\"Binary col: {i}, {data[i].nunique()}\")\n",
    "    elif data[i].nunique() == 1:\n",
    "        constant_columns.append(i)\n",
    "        print(f\"Constant col: {i}, {data[i].nunique()}\")\n",
    "    else:\n",
    "        numerical_columns.append(i)\n",
    "        print(f\"numerical col: {i}, {data[i].nunique()}\")"
   ]
  },
  {
   "cell_type": "code",
   "execution_count": null,
   "id": "f3440af0",
   "metadata": {
    "execution": {
     "iopub.execute_input": "2022-10-11T06:11:09.192962Z",
     "iopub.status.busy": "2022-10-11T06:11:09.192295Z",
     "iopub.status.idle": "2022-10-11T06:11:09.234862Z",
     "shell.execute_reply": "2022-10-11T06:11:09.233118Z"
    },
    "papermill": {
     "duration": 0.052084,
     "end_time": "2022-10-11T06:11:09.237452",
     "exception": false,
     "start_time": "2022-10-11T06:11:09.185368",
     "status": "completed"
    },
    "tags": []
   },
   "outputs": [],
   "source": [
    "X_test.info()"
   ]
  },
  {
   "attachments": {},
   "cell_type": "markdown",
   "id": "f7a925b2",
   "metadata": {
    "papermill": {
     "duration": 0.007073,
     "end_time": "2022-10-11T06:11:09.250659",
     "exception": false,
     "start_time": "2022-10-11T06:11:09.243586",
     "status": "completed"
    },
    "tags": []
   },
   "source": [
    "**Dealing with empty values**"
   ]
  },
  {
   "cell_type": "code",
   "execution_count": null,
   "id": "08ddcfc3",
   "metadata": {
    "execution": {
     "iopub.execute_input": "2022-10-11T06:11:09.265854Z",
     "iopub.status.busy": "2022-10-11T06:11:09.265411Z",
     "iopub.status.idle": "2022-10-11T06:11:09.277604Z",
     "shell.execute_reply": "2022-10-11T06:11:09.276203Z"
    },
    "papermill": {
     "duration": 0.022812,
     "end_time": "2022-10-11T06:11:09.280223",
     "exception": false,
     "start_time": "2022-10-11T06:11:09.257411",
     "status": "completed"
    },
    "tags": []
   },
   "outputs": [],
   "source": [
    "data.isnull().sum().sum()"
   ]
  },
  {
   "attachments": {},
   "cell_type": "markdown",
   "id": "9190a6d4",
   "metadata": {
    "papermill": {
     "duration": 0.005812,
     "end_time": "2022-10-11T06:11:09.351718",
     "exception": false,
     "start_time": "2022-10-11T06:11:09.345906",
     "status": "completed"
    },
    "tags": []
   },
   "source": [
    "All the empty values have been filled with the mean. The next step is to check for any duplicates and removing them.\n",
    "\n",
    "**Dealing with duplicates**"
   ]
  },
  {
   "cell_type": "code",
   "execution_count": null,
   "id": "4d5e88bb",
   "metadata": {
    "execution": {
     "iopub.execute_input": "2022-10-11T06:11:09.366051Z",
     "iopub.status.busy": "2022-10-11T06:11:09.365591Z",
     "iopub.status.idle": "2022-10-11T06:11:09.450014Z",
     "shell.execute_reply": "2022-10-11T06:11:09.448624Z"
    },
    "papermill": {
     "duration": 0.095113,
     "end_time": "2022-10-11T06:11:09.453035",
     "exception": false,
     "start_time": "2022-10-11T06:11:09.357922",
     "status": "completed"
    },
    "tags": []
   },
   "outputs": [],
   "source": [
    "data.duplicated().sum()\n",
    "# data.drop_duplicates()"
   ]
  },
  {
   "cell_type": "markdown",
   "id": "fcec09b9",
   "metadata": {},
   "source": [
    "### Make it binary classification by having normal cases (11) mapped to 0 and attack cases (all the other cases) to 1"
   ]
  },
  {
   "cell_type": "code",
   "execution_count": null,
   "id": "160ee179",
   "metadata": {},
   "outputs": [],
   "source": [
    "y_test['class'].loc[y_test['class']!=11] = 12\n",
    "y_test['class'].value_counts()"
   ]
  },
  {
   "cell_type": "code",
   "execution_count": null,
   "id": "7c8bf0e2",
   "metadata": {},
   "outputs": [],
   "source": [
    "le = LabelEncoder()\n",
    "y_test['class'] = le.fit_transform(y_test['class'])\n",
    "y_test['class'].value_counts()"
   ]
  },
  {
   "cell_type": "code",
   "execution_count": 9,
   "id": "f8dbad9d",
   "metadata": {},
   "outputs": [],
   "source": [
    "from sklearn.preprocessing import StandardScaler\n",
    "\n",
    "# standard scale numerical columns\n",
    "for col in numerical_columns:\n",
    "    _scaler = StandardScaler()\n",
    "    X_test[col] = _scaler.fit_transform(X_test[col].to_numpy().reshape(-1, 1))"
   ]
  },
  {
   "cell_type": "code",
   "execution_count": null,
   "id": "30d2bfaa",
   "metadata": {},
   "outputs": [],
   "source": [
    "for col in X_test.columns.tolist():\n",
    "    if col in binary_columns:\n",
    "        _encoder = LabelEncoder()\n",
    "        _encoder.fit(X_test[col])\n",
    "\n",
    "        # Some logging\n",
    "        print(f\"Number Unique Classes of LabelEncoding in column {col}: {len(np.unique(_encoder.classes_))}\")\n",
    "        \n",
    "        X_test[col] = _encoder.fit_transform(X_test[col])"
   ]
  },
  {
   "cell_type": "code",
   "execution_count": 11,
   "id": "92a268f3",
   "metadata": {},
   "outputs": [],
   "source": [
    "X_test_one_hot = pd.get_dummies(X_test, columns=categorical_columns, prefix_sep=\"__\")"
   ]
  },
  {
   "cell_type": "code",
   "execution_count": null,
   "id": "2584e0fe",
   "metadata": {},
   "outputs": [],
   "source": [
    "merged_df = pd.concat([X_test_one_hot, y_test], axis=1)\n",
    "merged_df.isna().sum().sum()"
   ]
  },
  {
   "cell_type": "code",
   "execution_count": null,
   "id": "1e2e2bf1",
   "metadata": {},
   "outputs": [],
   "source": [
    "merged_df.describe().T"
   ]
  },
  {
   "cell_type": "code",
   "execution_count": null,
   "id": "dd1cda58",
   "metadata": {},
   "outputs": [],
   "source": [
    "for col in merged_df.columns:\n",
    "    print(f\"- \\\"{col}\\\"\")"
   ]
  },
  {
   "cell_type": "code",
   "execution_count": 14,
   "id": "5e594ec9",
   "metadata": {},
   "outputs": [],
   "source": [
    "merged_df.to_csv(f'{Path.cwd()}/../datasets/Intrusion_preprocessed.csv', index=False)"
   ]
  },
  {
   "attachments": {},
   "cell_type": "markdown",
   "id": "5c182337",
   "metadata": {},
   "source": [
    "Confusion Matrix\n"
   ]
  },
  {
   "cell_type": "code",
   "execution_count": null,
   "id": "aa84c571",
   "metadata": {},
   "outputs": [],
   "source": [
    "corr = data.corr()\n",
    "\n",
    "# Generate a mask for the upper triangle\n",
    "mask = np.triu(np.ones_like(corr, dtype=bool))\n",
    "\n",
    "# Set up the matplotlib figure\n",
    "f, ax = plt.subplots(figsize=(11, 9))\n",
    "\n",
    "# Generate a custom diverging colormap\n",
    "cmap = sns.diverging_palette(230, 20, as_cmap=True)\n",
    "\n",
    "# Draw the heatmap with the mask and correct aspect ratio\n",
    "sns.heatmap(corr, mask=mask, cmap=cmap, center=0,\n",
    "            square=True, linewidths=.5, cbar_kws={\"shrink\": .5})"
   ]
  }
 ],
 "metadata": {
  "kernelspec": {
   "display_name": "Python 3",
   "language": "python",
   "name": "python3"
  },
  "language_info": {
   "codemirror_mode": {
    "name": "ipython",
    "version": 3
   },
   "file_extension": ".py",
   "mimetype": "text/x-python",
   "name": "python",
   "nbconvert_exporter": "python",
   "pygments_lexer": "ipython3",
   "version": "3.8.10"
  },
  "papermill": {
   "default_parameters": {},
   "duration": 12.783534,
   "end_time": "2022-10-11T06:11:11.103757",
   "environment_variables": {},
   "exception": null,
   "input_path": "__notebook__.ipynb",
   "output_path": "__notebook__.ipynb",
   "parameters": {},
   "start_time": "2022-10-11T06:10:58.320223",
   "version": "2.3.4"
  }
 },
 "nbformat": 4,
 "nbformat_minor": 5
}
