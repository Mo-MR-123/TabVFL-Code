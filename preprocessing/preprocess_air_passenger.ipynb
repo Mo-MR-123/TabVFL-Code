{
 "cells": [
  {
   "cell_type": "code",
   "execution_count": null,
   "metadata": {},
   "outputs": [],
   "source": [
    "from sklearn.model_selection import train_test_split\n",
    "from sklearn.preprocessing import LabelEncoder\n",
    "import pandas as pd\n",
    "import numpy as np\n",
    "from matplotlib import pyplot as plt\n",
    "import seaborn as sns\n",
    "from pathlib import Path\n",
    "from sklearn.preprocessing import StandardScaler\n"
   ]
  },
  {
   "cell_type": "code",
   "execution_count": null,
   "metadata": {},
   "outputs": [],
   "source": [
    "raw_df = pd.read_csv(f'{Path.cwd()}/../datasets/air_passenger_original.csv')"
   ]
  },
  {
   "cell_type": "code",
   "execution_count": null,
   "metadata": {},
   "outputs": [],
   "source": [
    "raw_df.shape"
   ]
  },
  {
   "cell_type": "code",
   "execution_count": null,
   "metadata": {},
   "outputs": [],
   "source": [
    "raw_df.info()"
   ]
  },
  {
   "cell_type": "code",
   "execution_count": null,
   "metadata": {},
   "outputs": [],
   "source": [
    "# remove columns that do not add anything to the learning process of model\n",
    "raw_df.drop(['Unnamed: 0', 'id'], axis=1, inplace=True)"
   ]
  },
  {
   "cell_type": "code",
   "execution_count": null,
   "metadata": {},
   "outputs": [],
   "source": [
    "raw_df.info()"
   ]
  },
  {
   "cell_type": "code",
   "execution_count": null,
   "metadata": {},
   "outputs": [],
   "source": [
    "raw_df.describe()"
   ]
  },
  {
   "cell_type": "code",
   "execution_count": null,
   "metadata": {},
   "outputs": [],
   "source": [
    "raw_df_features = raw_df.drop(columns=[\"satisfaction\"])\n",
    "raw_df_labels = raw_df[[\"satisfaction\"]]\n",
    "raw_df_features.shape, raw_df_labels.shape"
   ]
  },
  {
   "cell_type": "code",
   "execution_count": null,
   "metadata": {},
   "outputs": [],
   "source": [
    "# apply stratified sampling to the dataset to lower the number of rows to n samples\n",
    "X_train, X_test, y_train, y_test = train_test_split(\n",
    "    raw_df_features,\n",
    "    raw_df_labels,\n",
    "    test_size=50000,\n",
    "    random_state=42, \n",
    "    stratify=raw_df_labels.to_numpy()\n",
    ")\n",
    "\n",
    "X_train.shape, X_test.shape, y_train.shape, y_test.shape"
   ]
  },
  {
   "cell_type": "code",
   "execution_count": null,
   "metadata": {},
   "outputs": [],
   "source": [
    "categorical_features = [\n",
    "    'Class',\n",
    "    'Inflight wifi service',\n",
    "    'Departure/Arrival time convenient',\n",
    "    'Ease of Online booking',\n",
    "    'Gate location',\n",
    "    'Food and drink',\n",
    "    'Online boarding',\n",
    "    'Seat comfort',\n",
    "    'Inflight entertainment',\n",
    "    'On-board service',\n",
    "    'Leg room service',\n",
    "    'Baggage handling',\n",
    "    'Checkin service',\n",
    "    'Inflight service',\n",
    "    'Cleanliness'\n",
    "]\n",
    "\n",
    "binary_features = ['Gender', 'Customer Type', 'Type of Travel']\n",
    "\n",
    "numerical_features = X_test.columns.difference(categorical_features + binary_features + ['satisfaction'])\n",
    "numerical_features"
   ]
  },
  {
   "cell_type": "code",
   "execution_count": null,
   "metadata": {},
   "outputs": [],
   "source": [
    "X_test.isna().sum()"
   ]
  },
  {
   "cell_type": "code",
   "execution_count": null,
   "metadata": {},
   "outputs": [],
   "source": [
    "mode_value = X_test['Arrival Delay in Minutes'].mode()[0]\n",
    "X_test['Arrival Delay in Minutes'] = X_test['Arrival Delay in Minutes'].fillna(mode_value)"
   ]
  },
  {
   "cell_type": "code",
   "execution_count": null,
   "metadata": {},
   "outputs": [],
   "source": [
    "X_test.isna().sum().sum()"
   ]
  },
  {
   "cell_type": "code",
   "execution_count": null,
   "metadata": {},
   "outputs": [],
   "source": [
    "y_test.value_counts()"
   ]
  },
  {
   "cell_type": "code",
   "execution_count": null,
   "metadata": {},
   "outputs": [],
   "source": [
    "y_test['satisfaction'] = y_test['satisfaction'].map({'neutral or dissatisfied': 0, 'satisfied': 1})\n",
    "y_test['satisfaction'].value_counts()"
   ]
  },
  {
   "cell_type": "code",
   "execution_count": null,
   "metadata": {},
   "outputs": [],
   "source": [
    "# standard scale numerical features\n",
    "# scaler = StandardScaler()\n",
    "# raw_df[numerical_features] = scaler.fit_transform(raw_df[numerical_features])\n",
    "\n",
    "# raw_df.head()"
   ]
  },
  {
   "cell_type": "code",
   "execution_count": null,
   "metadata": {},
   "outputs": [],
   "source": [
    "from sklearn.preprocessing import StandardScaler\n",
    "\n",
    "# standard scale numerical columns\n",
    "for col in numerical_features:\n",
    "    _scaler = StandardScaler()\n",
    "    X_test[col] = _scaler.fit_transform(X_test[col].to_numpy().reshape(-1, 1))"
   ]
  },
  {
   "cell_type": "code",
   "execution_count": null,
   "metadata": {},
   "outputs": [],
   "source": [
    "for col in X_test.columns.tolist():\n",
    "    if col in binary_features:\n",
    "        _encoder = LabelEncoder()\n",
    "        _encoder.fit(X_test[col])\n",
    "\n",
    "        # Some logging\n",
    "        print(f\"Number Unique Classes of LabelEncoding in column {col}: {len(np.unique(_encoder.classes_))}\")\n",
    "        \n",
    "        X_test[col] = _encoder.fit_transform(X_test[col])"
   ]
  },
  {
   "cell_type": "code",
   "execution_count": null,
   "metadata": {},
   "outputs": [],
   "source": [
    "X_test = pd.get_dummies(X_test, columns=categorical_features, prefix_sep='__')"
   ]
  },
  {
   "cell_type": "code",
   "execution_count": null,
   "metadata": {},
   "outputs": [],
   "source": [
    "X_test"
   ]
  },
  {
   "cell_type": "code",
   "execution_count": null,
   "metadata": {},
   "outputs": [],
   "source": [
    "merged_df = pd.concat([X_test, y_test], axis=1)\n",
    "merged_df"
   ]
  },
  {
   "cell_type": "code",
   "execution_count": null,
   "metadata": {},
   "outputs": [],
   "source": [
    "for i in merged_df.columns:\n",
    "    print(f\"- \\\"{i}\\\"\")"
   ]
  },
  {
   "cell_type": "code",
   "execution_count": null,
   "metadata": {},
   "outputs": [],
   "source": [
    "X_test.info()"
   ]
  },
  {
   "cell_type": "code",
   "execution_count": null,
   "metadata": {},
   "outputs": [],
   "source": [
    "y_test.value_counts('satisfaction')"
   ]
  },
  {
   "cell_type": "code",
   "execution_count": null,
   "metadata": {},
   "outputs": [],
   "source": [
    "merged_df.to_csv(f'{Path.cwd()}/../datasets/air_passenger_preprocessed.csv', index=False)"
   ]
  }
 ],
 "metadata": {
  "kernelspec": {
   "display_name": "venv",
   "language": "python",
   "name": "python3"
  },
  "language_info": {
   "codemirror_mode": {
    "name": "ipython",
    "version": 3
   },
   "file_extension": ".py",
   "mimetype": "text/x-python",
   "name": "python",
   "nbconvert_exporter": "python",
   "pygments_lexer": "ipython3",
   "version": "3.8.10"
  },
  "orig_nbformat": 4
 },
 "nbformat": 4,
 "nbformat_minor": 2
}
